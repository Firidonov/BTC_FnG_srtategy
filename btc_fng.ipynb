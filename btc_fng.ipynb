{
 "cells": [
  {
   "cell_type": "code",
   "execution_count": 1,
   "id": "c9cfda18",
   "metadata": {},
   "outputs": [],
   "source": [
    "import yfinance as yf\n",
    "import pandas as pd\n",
    "import matplotlib.pyplot as plt\n",
    "import seaborn as sns\n",
    "import requests\n",
    "from bs4 import BeautifulSoup"
   ]
  },
  {
   "cell_type": "code",
   "execution_count": 2,
   "id": "79bf816b",
   "metadata": {},
   "outputs": [
    {
     "name": "stderr",
     "output_type": "stream",
     "text": [
      "[*********************100%***********************]  1 of 1 completed\n"
     ]
    }
   ],
   "source": [
    "#download BTC-USD pair data from Yahoo Finance\n",
    "btc_data = yf.download('BTC-USD', start = '2018-02-01', end = None)"
   ]
  },
  {
   "cell_type": "code",
   "execution_count": 3,
   "id": "6b92d90d",
   "metadata": {},
   "outputs": [
    {
     "data": {
      "text/html": [
       "<div>\n",
       "<style scoped>\n",
       "    .dataframe tbody tr th:only-of-type {\n",
       "        vertical-align: middle;\n",
       "    }\n",
       "\n",
       "    .dataframe tbody tr th {\n",
       "        vertical-align: top;\n",
       "    }\n",
       "\n",
       "    .dataframe thead th {\n",
       "        text-align: right;\n",
       "    }\n",
       "</style>\n",
       "<table border=\"1\" class=\"dataframe\">\n",
       "  <thead>\n",
       "    <tr style=\"text-align: right;\">\n",
       "      <th></th>\n",
       "      <th>fng_value</th>\n",
       "      <th>fng_classification</th>\n",
       "    </tr>\n",
       "    <tr>\n",
       "      <th>date</th>\n",
       "      <th></th>\n",
       "      <th></th>\n",
       "    </tr>\n",
       "  </thead>\n",
       "  <tbody>\n",
       "    <tr>\n",
       "      <th>2025-01-02</th>\n",
       "      <td>70.0</td>\n",
       "      <td>Greed</td>\n",
       "    </tr>\n",
       "    <tr>\n",
       "      <th>2025-01-01</th>\n",
       "      <td>66.0</td>\n",
       "      <td>Greed</td>\n",
       "    </tr>\n",
       "    <tr>\n",
       "      <th>2024-12-31</th>\n",
       "      <td>64.0</td>\n",
       "      <td>Greed</td>\n",
       "    </tr>\n",
       "    <tr>\n",
       "      <th>2024-12-30</th>\n",
       "      <td>65.0</td>\n",
       "      <td>Greed</td>\n",
       "    </tr>\n",
       "    <tr>\n",
       "      <th>2024-12-29</th>\n",
       "      <td>73.0</td>\n",
       "      <td>Greed</td>\n",
       "    </tr>\n",
       "    <tr>\n",
       "      <th>...</th>\n",
       "      <td>...</td>\n",
       "      <td>...</td>\n",
       "    </tr>\n",
       "    <tr>\n",
       "      <th>2018-02-05</th>\n",
       "      <td>11.0</td>\n",
       "      <td>Extreme Fear</td>\n",
       "    </tr>\n",
       "    <tr>\n",
       "      <th>2018-02-04</th>\n",
       "      <td>24.0</td>\n",
       "      <td>Extreme Fear</td>\n",
       "    </tr>\n",
       "    <tr>\n",
       "      <th>2018-02-03</th>\n",
       "      <td>40.0</td>\n",
       "      <td>Fear</td>\n",
       "    </tr>\n",
       "    <tr>\n",
       "      <th>2018-02-02</th>\n",
       "      <td>15.0</td>\n",
       "      <td>Extreme Fear</td>\n",
       "    </tr>\n",
       "    <tr>\n",
       "      <th>2018-02-01</th>\n",
       "      <td>30.0</td>\n",
       "      <td>Fear</td>\n",
       "    </tr>\n",
       "  </tbody>\n",
       "</table>\n",
       "<p>2524 rows × 2 columns</p>\n",
       "</div>"
      ],
      "text/plain": [
       "            fng_value fng_classification\n",
       "date                                    \n",
       "2025-01-02       70.0              Greed\n",
       "2025-01-01       66.0              Greed\n",
       "2024-12-31       64.0              Greed\n",
       "2024-12-30       65.0              Greed\n",
       "2024-12-29       73.0              Greed\n",
       "...               ...                ...\n",
       "2018-02-05       11.0       Extreme Fear\n",
       "2018-02-04       24.0       Extreme Fear\n",
       "2018-02-03       40.0               Fear\n",
       "2018-02-02       15.0       Extreme Fear\n",
       "2018-02-01       30.0               Fear\n",
       "\n",
       "[2524 rows x 2 columns]"
      ]
     },
     "execution_count": 3,
     "metadata": {},
     "output_type": "execute_result"
    }
   ],
   "source": [
    "#sent request 'https://api.alternative.me/fng/?limit=0&format=csv&date_format=cn' through Postman and saved the data in Json format\n",
    "\n",
    "df_fng = pd.read_csv('fear_greed_index.csv',index_col=[0],parse_dates = [0]).dropna()\n",
    "\n",
    "df_fng\n"
   ]
  },
  {
   "cell_type": "code",
   "execution_count": 4,
   "id": "11c31415",
   "metadata": {},
   "outputs": [
    {
     "data": {
      "text/html": [
       "<div>\n",
       "<style scoped>\n",
       "    .dataframe tbody tr th:only-of-type {\n",
       "        vertical-align: middle;\n",
       "    }\n",
       "\n",
       "    .dataframe tbody tr th {\n",
       "        vertical-align: top;\n",
       "    }\n",
       "\n",
       "    .dataframe thead tr th {\n",
       "        text-align: left;\n",
       "    }\n",
       "\n",
       "    .dataframe thead tr:last-of-type th {\n",
       "        text-align: right;\n",
       "    }\n",
       "</style>\n",
       "<table border=\"1\" class=\"dataframe\">\n",
       "  <thead>\n",
       "    <tr>\n",
       "      <th>Price</th>\n",
       "      <th>Close</th>\n",
       "      <th>High</th>\n",
       "      <th>Low</th>\n",
       "      <th>Open</th>\n",
       "      <th>Volume</th>\n",
       "    </tr>\n",
       "    <tr>\n",
       "      <th>Ticker</th>\n",
       "      <th>BTC-USD</th>\n",
       "      <th>BTC-USD</th>\n",
       "      <th>BTC-USD</th>\n",
       "      <th>BTC-USD</th>\n",
       "      <th>BTC-USD</th>\n",
       "    </tr>\n",
       "    <tr>\n",
       "      <th>Date</th>\n",
       "      <th></th>\n",
       "      <th></th>\n",
       "      <th></th>\n",
       "      <th></th>\n",
       "      <th></th>\n",
       "    </tr>\n",
       "  </thead>\n",
       "  <tbody>\n",
       "    <tr>\n",
       "      <th>2018-02-01</th>\n",
       "      <td>9170.540039</td>\n",
       "      <td>10288.799805</td>\n",
       "      <td>8812.280273</td>\n",
       "      <td>10237.299805</td>\n",
       "      <td>9959400448</td>\n",
       "    </tr>\n",
       "    <tr>\n",
       "      <th>2018-02-02</th>\n",
       "      <td>8830.750000</td>\n",
       "      <td>9142.280273</td>\n",
       "      <td>7796.490234</td>\n",
       "      <td>9142.280273</td>\n",
       "      <td>12726899712</td>\n",
       "    </tr>\n",
       "    <tr>\n",
       "      <th>2018-02-03</th>\n",
       "      <td>9174.910156</td>\n",
       "      <td>9430.750000</td>\n",
       "      <td>8251.629883</td>\n",
       "      <td>8852.120117</td>\n",
       "      <td>7263790080</td>\n",
       "    </tr>\n",
       "    <tr>\n",
       "      <th>2018-02-04</th>\n",
       "      <td>8277.009766</td>\n",
       "      <td>9334.870117</td>\n",
       "      <td>8031.220215</td>\n",
       "      <td>9175.700195</td>\n",
       "      <td>7073549824</td>\n",
       "    </tr>\n",
       "    <tr>\n",
       "      <th>2018-02-05</th>\n",
       "      <td>6955.270020</td>\n",
       "      <td>8364.839844</td>\n",
       "      <td>6756.680176</td>\n",
       "      <td>8270.540039</td>\n",
       "      <td>9285289984</td>\n",
       "    </tr>\n",
       "    <tr>\n",
       "      <th>...</th>\n",
       "      <td>...</td>\n",
       "      <td>...</td>\n",
       "      <td>...</td>\n",
       "      <td>...</td>\n",
       "      <td>...</td>\n",
       "    </tr>\n",
       "    <tr>\n",
       "      <th>2024-12-31</th>\n",
       "      <td>93429.203125</td>\n",
       "      <td>96090.601562</td>\n",
       "      <td>91914.031250</td>\n",
       "      <td>92643.250000</td>\n",
       "      <td>43625106843</td>\n",
       "    </tr>\n",
       "    <tr>\n",
       "      <th>2025-01-01</th>\n",
       "      <td>94419.757812</td>\n",
       "      <td>94929.867188</td>\n",
       "      <td>92788.125000</td>\n",
       "      <td>93425.101562</td>\n",
       "      <td>24519888919</td>\n",
       "    </tr>\n",
       "    <tr>\n",
       "      <th>2025-01-02</th>\n",
       "      <td>96886.875000</td>\n",
       "      <td>97739.820312</td>\n",
       "      <td>94201.570312</td>\n",
       "      <td>94416.289062</td>\n",
       "      <td>46009564411</td>\n",
       "    </tr>\n",
       "    <tr>\n",
       "      <th>2025-01-03</th>\n",
       "      <td>98107.429688</td>\n",
       "      <td>98956.914062</td>\n",
       "      <td>96034.617188</td>\n",
       "      <td>96881.726562</td>\n",
       "      <td>35611391163</td>\n",
       "    </tr>\n",
       "    <tr>\n",
       "      <th>2025-01-05</th>\n",
       "      <td>98277.789062</td>\n",
       "      <td>98462.460938</td>\n",
       "      <td>98035.890625</td>\n",
       "      <td>98211.265625</td>\n",
       "      <td>20306802688</td>\n",
       "    </tr>\n",
       "  </tbody>\n",
       "</table>\n",
       "<p>2530 rows × 5 columns</p>\n",
       "</div>"
      ],
      "text/plain": [
       "Price              Close          High           Low          Open  \\\n",
       "Ticker           BTC-USD       BTC-USD       BTC-USD       BTC-USD   \n",
       "Date                                                                 \n",
       "2018-02-01   9170.540039  10288.799805   8812.280273  10237.299805   \n",
       "2018-02-02   8830.750000   9142.280273   7796.490234   9142.280273   \n",
       "2018-02-03   9174.910156   9430.750000   8251.629883   8852.120117   \n",
       "2018-02-04   8277.009766   9334.870117   8031.220215   9175.700195   \n",
       "2018-02-05   6955.270020   8364.839844   6756.680176   8270.540039   \n",
       "...                  ...           ...           ...           ...   \n",
       "2024-12-31  93429.203125  96090.601562  91914.031250  92643.250000   \n",
       "2025-01-01  94419.757812  94929.867188  92788.125000  93425.101562   \n",
       "2025-01-02  96886.875000  97739.820312  94201.570312  94416.289062   \n",
       "2025-01-03  98107.429688  98956.914062  96034.617188  96881.726562   \n",
       "2025-01-05  98277.789062  98462.460938  98035.890625  98211.265625   \n",
       "\n",
       "Price            Volume  \n",
       "Ticker          BTC-USD  \n",
       "Date                     \n",
       "2018-02-01   9959400448  \n",
       "2018-02-02  12726899712  \n",
       "2018-02-03   7263790080  \n",
       "2018-02-04   7073549824  \n",
       "2018-02-05   9285289984  \n",
       "...                 ...  \n",
       "2024-12-31  43625106843  \n",
       "2025-01-01  24519888919  \n",
       "2025-01-02  46009564411  \n",
       "2025-01-03  35611391163  \n",
       "2025-01-05  20306802688  \n",
       "\n",
       "[2530 rows x 5 columns]"
      ]
     },
     "execution_count": 4,
     "metadata": {},
     "output_type": "execute_result"
    }
   ],
   "source": [
    "btc_data"
   ]
  },
  {
   "cell_type": "code",
   "execution_count": 5,
   "id": "fc82cadd",
   "metadata": {},
   "outputs": [],
   "source": [
    "btc_df = btc_data.loc[:,'Close']"
   ]
  },
  {
   "cell_type": "code",
   "execution_count": 6,
   "id": "de31aca9",
   "metadata": {},
   "outputs": [
    {
     "data": {
      "text/plain": [
       "Ticker\n",
       "BTC-USD    9170.540039\n",
       "Name: 2018-02-01 00:00:00, dtype: float64"
      ]
     },
     "execution_count": 6,
     "metadata": {},
     "output_type": "execute_result"
    }
   ],
   "source": [
    "btc_df.loc['2018-02-01']"
   ]
  },
  {
   "cell_type": "code",
   "execution_count": 7,
   "id": "9ab717ef",
   "metadata": {},
   "outputs": [],
   "source": [
    "btc_df = pd.read_csv('btc_df.csv')"
   ]
  },
  {
   "cell_type": "code",
   "execution_count": 8,
   "id": "45fc7a83",
   "metadata": {},
   "outputs": [
    {
     "data": {
      "text/plain": [
       "Index(['Date', 'BTC-USD'], dtype='object')"
      ]
     },
     "execution_count": 8,
     "metadata": {},
     "output_type": "execute_result"
    }
   ],
   "source": [
    "btc_df.columns"
   ]
  },
  {
   "cell_type": "code",
   "execution_count": 9,
   "id": "a58af637",
   "metadata": {},
   "outputs": [
    {
     "data": {
      "text/plain": [
       "0        9170.540039\n",
       "1        8830.750000\n",
       "2        9174.910156\n",
       "3        8277.009766\n",
       "4        6955.270020\n",
       "            ...     \n",
       "2524    92643.210938\n",
       "2525    93429.203125\n",
       "2526    94419.757812\n",
       "2527    96886.875000\n",
       "2528    96744.546875\n",
       "Name: BTC-USD, Length: 2529, dtype: float64"
      ]
     },
     "execution_count": 9,
     "metadata": {},
     "output_type": "execute_result"
    }
   ],
   "source": [
    "btc_df['BTC-USD']"
   ]
  },
  {
   "cell_type": "code",
   "execution_count": 10,
   "id": "2ce990ca",
   "metadata": {},
   "outputs": [],
   "source": [
    "btc_df.rename(columns={'Date': 'date'}, inplace=True)"
   ]
  },
  {
   "cell_type": "code",
   "execution_count": 11,
   "id": "fea28932",
   "metadata": {},
   "outputs": [
    {
     "data": {
      "text/html": [
       "<div>\n",
       "<style scoped>\n",
       "    .dataframe tbody tr th:only-of-type {\n",
       "        vertical-align: middle;\n",
       "    }\n",
       "\n",
       "    .dataframe tbody tr th {\n",
       "        vertical-align: top;\n",
       "    }\n",
       "\n",
       "    .dataframe thead th {\n",
       "        text-align: right;\n",
       "    }\n",
       "</style>\n",
       "<table border=\"1\" class=\"dataframe\">\n",
       "  <thead>\n",
       "    <tr style=\"text-align: right;\">\n",
       "      <th></th>\n",
       "      <th>date</th>\n",
       "      <th>BTC-USD</th>\n",
       "    </tr>\n",
       "  </thead>\n",
       "  <tbody>\n",
       "    <tr>\n",
       "      <th>0</th>\n",
       "      <td>2018-02-01</td>\n",
       "      <td>9170.540039</td>\n",
       "    </tr>\n",
       "    <tr>\n",
       "      <th>1</th>\n",
       "      <td>2018-02-02</td>\n",
       "      <td>8830.750000</td>\n",
       "    </tr>\n",
       "    <tr>\n",
       "      <th>2</th>\n",
       "      <td>2018-02-03</td>\n",
       "      <td>9174.910156</td>\n",
       "    </tr>\n",
       "    <tr>\n",
       "      <th>3</th>\n",
       "      <td>2018-02-04</td>\n",
       "      <td>8277.009766</td>\n",
       "    </tr>\n",
       "    <tr>\n",
       "      <th>4</th>\n",
       "      <td>2018-02-05</td>\n",
       "      <td>6955.270020</td>\n",
       "    </tr>\n",
       "    <tr>\n",
       "      <th>...</th>\n",
       "      <td>...</td>\n",
       "      <td>...</td>\n",
       "    </tr>\n",
       "    <tr>\n",
       "      <th>2524</th>\n",
       "      <td>2024-12-30</td>\n",
       "      <td>92643.210938</td>\n",
       "    </tr>\n",
       "    <tr>\n",
       "      <th>2525</th>\n",
       "      <td>2024-12-31</td>\n",
       "      <td>93429.203125</td>\n",
       "    </tr>\n",
       "    <tr>\n",
       "      <th>2526</th>\n",
       "      <td>2025-01-01</td>\n",
       "      <td>94419.757812</td>\n",
       "    </tr>\n",
       "    <tr>\n",
       "      <th>2527</th>\n",
       "      <td>2025-01-02</td>\n",
       "      <td>96886.875000</td>\n",
       "    </tr>\n",
       "    <tr>\n",
       "      <th>2528</th>\n",
       "      <td>2025-01-03</td>\n",
       "      <td>96744.546875</td>\n",
       "    </tr>\n",
       "  </tbody>\n",
       "</table>\n",
       "<p>2529 rows × 2 columns</p>\n",
       "</div>"
      ],
      "text/plain": [
       "            date       BTC-USD\n",
       "0     2018-02-01   9170.540039\n",
       "1     2018-02-02   8830.750000\n",
       "2     2018-02-03   9174.910156\n",
       "3     2018-02-04   8277.009766\n",
       "4     2018-02-05   6955.270020\n",
       "...          ...           ...\n",
       "2524  2024-12-30  92643.210938\n",
       "2525  2024-12-31  93429.203125\n",
       "2526  2025-01-01  94419.757812\n",
       "2527  2025-01-02  96886.875000\n",
       "2528  2025-01-03  96744.546875\n",
       "\n",
       "[2529 rows x 2 columns]"
      ]
     },
     "execution_count": 11,
     "metadata": {},
     "output_type": "execute_result"
    }
   ],
   "source": [
    "btc_df"
   ]
  },
  {
   "cell_type": "code",
   "execution_count": 28,
   "id": "46c08412",
   "metadata": {},
   "outputs": [],
   "source": [
    "merged_data = pd.merge(btc_df, df_fng, on='date', how='inner')\n",
    "df['date'] = pd.to_datetime(df['date'], errors='coerce')\n",
    "\n"
   ]
  },
  {
   "cell_type": "code",
   "execution_count": 13,
   "id": "dffed748",
   "metadata": {},
   "outputs": [
    {
     "data": {
      "text/html": [
       "<div>\n",
       "<style scoped>\n",
       "    .dataframe tbody tr th:only-of-type {\n",
       "        vertical-align: middle;\n",
       "    }\n",
       "\n",
       "    .dataframe tbody tr th {\n",
       "        vertical-align: top;\n",
       "    }\n",
       "\n",
       "    .dataframe thead th {\n",
       "        text-align: right;\n",
       "    }\n",
       "</style>\n",
       "<table border=\"1\" class=\"dataframe\">\n",
       "  <thead>\n",
       "    <tr style=\"text-align: right;\">\n",
       "      <th></th>\n",
       "      <th>date</th>\n",
       "      <th>BTC-USD</th>\n",
       "      <th>fng_value</th>\n",
       "      <th>fng_classification</th>\n",
       "    </tr>\n",
       "  </thead>\n",
       "  <tbody>\n",
       "    <tr>\n",
       "      <th>0</th>\n",
       "      <td>2018-02-01</td>\n",
       "      <td>9170.540039</td>\n",
       "      <td>30.0</td>\n",
       "      <td>Fear</td>\n",
       "    </tr>\n",
       "    <tr>\n",
       "      <th>1</th>\n",
       "      <td>2018-02-02</td>\n",
       "      <td>8830.750000</td>\n",
       "      <td>15.0</td>\n",
       "      <td>Extreme Fear</td>\n",
       "    </tr>\n",
       "    <tr>\n",
       "      <th>2</th>\n",
       "      <td>2018-02-03</td>\n",
       "      <td>9174.910156</td>\n",
       "      <td>40.0</td>\n",
       "      <td>Fear</td>\n",
       "    </tr>\n",
       "    <tr>\n",
       "      <th>3</th>\n",
       "      <td>2018-02-04</td>\n",
       "      <td>8277.009766</td>\n",
       "      <td>24.0</td>\n",
       "      <td>Extreme Fear</td>\n",
       "    </tr>\n",
       "    <tr>\n",
       "      <th>4</th>\n",
       "      <td>2018-02-05</td>\n",
       "      <td>6955.270020</td>\n",
       "      <td>11.0</td>\n",
       "      <td>Extreme Fear</td>\n",
       "    </tr>\n",
       "    <tr>\n",
       "      <th>...</th>\n",
       "      <td>...</td>\n",
       "      <td>...</td>\n",
       "      <td>...</td>\n",
       "      <td>...</td>\n",
       "    </tr>\n",
       "    <tr>\n",
       "      <th>2519</th>\n",
       "      <td>2024-12-29</td>\n",
       "      <td>93530.226562</td>\n",
       "      <td>73.0</td>\n",
       "      <td>Greed</td>\n",
       "    </tr>\n",
       "    <tr>\n",
       "      <th>2520</th>\n",
       "      <td>2024-12-30</td>\n",
       "      <td>92643.210938</td>\n",
       "      <td>65.0</td>\n",
       "      <td>Greed</td>\n",
       "    </tr>\n",
       "    <tr>\n",
       "      <th>2521</th>\n",
       "      <td>2024-12-31</td>\n",
       "      <td>93429.203125</td>\n",
       "      <td>64.0</td>\n",
       "      <td>Greed</td>\n",
       "    </tr>\n",
       "    <tr>\n",
       "      <th>2522</th>\n",
       "      <td>2025-01-01</td>\n",
       "      <td>94419.757812</td>\n",
       "      <td>66.0</td>\n",
       "      <td>Greed</td>\n",
       "    </tr>\n",
       "    <tr>\n",
       "      <th>2523</th>\n",
       "      <td>2025-01-02</td>\n",
       "      <td>96886.875000</td>\n",
       "      <td>70.0</td>\n",
       "      <td>Greed</td>\n",
       "    </tr>\n",
       "  </tbody>\n",
       "</table>\n",
       "<p>2524 rows × 4 columns</p>\n",
       "</div>"
      ],
      "text/plain": [
       "            date       BTC-USD  fng_value fng_classification\n",
       "0     2018-02-01   9170.540039       30.0               Fear\n",
       "1     2018-02-02   8830.750000       15.0       Extreme Fear\n",
       "2     2018-02-03   9174.910156       40.0               Fear\n",
       "3     2018-02-04   8277.009766       24.0       Extreme Fear\n",
       "4     2018-02-05   6955.270020       11.0       Extreme Fear\n",
       "...          ...           ...        ...                ...\n",
       "2519  2024-12-29  93530.226562       73.0              Greed\n",
       "2520  2024-12-30  92643.210938       65.0              Greed\n",
       "2521  2024-12-31  93429.203125       64.0              Greed\n",
       "2522  2025-01-01  94419.757812       66.0              Greed\n",
       "2523  2025-01-02  96886.875000       70.0              Greed\n",
       "\n",
       "[2524 rows x 4 columns]"
      ]
     },
     "execution_count": 13,
     "metadata": {},
     "output_type": "execute_result"
    }
   ],
   "source": [
    "merged_data"
   ]
  },
  {
   "cell_type": "code",
   "execution_count": 14,
   "id": "ca6475a9",
   "metadata": {},
   "outputs": [
    {
     "name": "stdout",
     "output_type": "stream",
     "text": [
      "Correlation: 0.4242930280608611\n"
     ]
    }
   ],
   "source": [
    "correlation = merged_data['BTC-USD'].corr(merged_data['fng_value'])\n",
    "print(f\"Correlation: {correlation}\")\n"
   ]
  },
  {
   "cell_type": "code",
   "execution_count": 15,
   "id": "426ebb0b",
   "metadata": {
    "scrolled": true
   },
   "outputs": [
    {
     "data": {
      "image/png": "[encoded data removed]",
      "text/plain": [
       "<Figure size 432x288 with 1 Axes>"
      ]
     },
     "metadata": {
      "needs_background": "light"
     },
     "output_type": "display_data"
    },
    {
     "data": {
      "text/plain": [
       "<Figure size 432x288 with 0 Axes>"
      ]
     },
     "metadata": {},
     "output_type": "display_data"
    }
   ],
   "source": [
    "plt.scatter(merged_data['fng_value'], merged_data['BTC-USD'], alpha=0.5)\n",
    "plt.title('BTC-USD vs. Fear and Greed Index')\n",
    "plt.xlabel('Fear and Greed Index (fng_value)')\n",
    "plt.ylabel('BTC-USD Price')\n",
    "plt.show()\n",
    "plt.savefig('/home/x_ray_trader/ML/BTC_strategy_on_FnG/btc_vs_fng.png', dpi=300)\n",
    "plt.show()\n"
   ]
  },
  {
   "cell_type": "code",
   "execution_count": 31,
   "id": "8655598d",
   "metadata": {},
   "outputs": [],
   "source": [
    "df['portfolio_value'] = pd.to_numeric(df['portfolio_value'], errors='coerce')\n",
    "df = df.dropna(subset=['date', 'portfolio_value'])\n"
   ]
  },
  {
   "cell_type": "code",
   "execution_count": 26,
   "id": "fa79823f",
   "metadata": {
    "scrolled": true
   },
   "outputs": [
    {
     "name": "stdout",
     "output_type": "stream",
     "text": [
      "Final Cash: $900.00\n",
      "Final BTC Holdings: 0.139018 BTC\n",
      "Final Portfolio Value: $14369.06\n"
     ]
    }
   ],
   "source": [
    "# Initialize portfolio\n",
    "cash = 1000  # Starting cash\n",
    "btc_holdings = 0  # BTC owned\n",
    "btc_per_trade = 50  # Buy/Sell amount in USD\n",
    "df['action'] = None  # Track actions\n",
    "\n",
    "# Simulate trading\n",
    "for i, row in df.iterrows():\n",
    "    btc_price = row['BTC-USD']\n",
    "    fng_value = row['fng_value']\n",
    "    \n",
    "    # Buy during \"Extreme Fear\"\n",
    "    if fng_value <= 15 and cash >= btc_per_trade:\n",
    "        btc_bought = btc_per_trade / btc_price  # Amount of BTC to buy\n",
    "        btc_holdings += btc_bought\n",
    "        cash -= btc_per_trade\n",
    "        df.loc[i, 'action'] = 'Buy'\n",
    "    \n",
    "    # Sell during \"Extreme Greed\"\n",
    "    elif fng_value >= 85 and btc_holdings > 0:\n",
    "        btc_sold = btc_per_trade / btc_price  # Amount of BTC to sell\n",
    "        btc_holdings -= btc_sold\n",
    "        cash += btc_per_trade\n",
    "        df.loc[i, 'action'] = 'Sell'\n",
    "    else:\n",
    "        df.loc[i, 'action'] = 'Hold'\n",
    "\n",
    "# Calculate portfolio value dynamically\n",
    "df['cash'] = cash  # Final cash balance\n",
    "df['btc_holdings'] = btc_holdings  # Final BTC holdings\n",
    "final_btc_value = btc_holdings * df['BTC-USD'].iloc[-1]  # BTC value at last price\n",
    "total_portfolio_value = cash + final_btc_value\n",
    "\n",
    "# Results\n",
    "print(f\"Final Cash: ${cash:.2f}\")\n",
    "print(f\"Final BTC Holdings: {btc_holdings:.6f} BTC\")\n",
    "print(f\"Final Portfolio Value: ${total_portfolio_value:.2f}\")\n",
    "\n",
    "# Optional: Add portfolio value column\n",
    "df['portfolio_value'] = df['cash'] + (df['btc_holdings'] * df['BTC-USD'])\n",
    "\n"
   ]
  },
  {
   "cell_type": "code",
   "execution_count": 35,
   "id": "ec4f3664",
   "metadata": {},
   "outputs": [
    {
     "data": {
      "image/png": "[encoded data removed]",
      "text/plain": [
       "<Figure size 864x432 with 1 Axes>"
      ]
     },
     "metadata": {
      "needs_background": "light"
     },
     "output_type": "display_data"
    }
   ],
   "source": [
    "dates = df['date'].values\n",
    "portfolio_values = df['portfolio_value'].values\n",
    "\n",
    "plt.figure(figsize=(12, 6))\n",
    "plt.plot(dates, portfolio_values, label='Portfolio Value', color='blue', linewidth=2)\n",
    "plt.title('Portfolio Value Over Time', fontsize=16)\n",
    "plt.xlabel('Date', fontsize=12)\n",
    "plt.ylabel('Portfolio Value ($)', fontsize=12)\n",
    "plt.legend()\n",
    "plt.grid(True)\n",
    "plt.xticks(rotation=45)\n",
    "plt.tight_layout()\n",
    "plt.show()\n",
    "\n"
   ]
  },
  {
   "cell_type": "code",
   "execution_count": null,
   "id": "6925a1a9",
   "metadata": {},
   "outputs": [],
   "source": []
  }
 ],
 "metadata": {
  "kernelspec": {
   "display_name": "Python 3 (ipykernel)",
   "language": "python",
   "name": "python3"
  },
  "language_info": {
   "codemirror_mode": {
    "name": "ipython",
    "version": 3
   },
   "file_extension": ".py",
   "mimetype": "text/x-python",
   "name": "python",
   "nbconvert_exporter": "python",
   "pygments_lexer": "ipython3",
   "version": "3.10.12"
  }
 },
 "nbformat": 4,
 "nbformat_minor": 5
}
